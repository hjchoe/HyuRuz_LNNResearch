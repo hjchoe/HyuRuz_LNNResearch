{
 "cells": [
  {
   "cell_type": "markdown",
   "id": "f8518e84-5090-4c75-a0a5-caedee0a439c",
   "metadata": {
    "tags": []
   },
   "source": [
    "# Propositional Logic Experiment\n",
    "\n",
    "In this notebook, we will test your skills on using the LNN in a propositional setting. You will be required to use your knowledge about per-node reasoning and bounds to complete the code and answer the query. Once you have evaluated the end result, [submit your answer](https://ibm.ent.box.com/notes/928968934657?s=42l32h0uno2ndq5o9omb7hl17dddpjuk) to become eligble for the [IBM Neuro-Symbolic AI Essentials](https://ibm.biz/nsai-essentials) Badge."
   ]
  },
  {
   "cell_type": "markdown",
   "id": "4ba45830-585b-4ee0-93dc-793a2ee3d94c",
   "metadata": {
    "tags": []
   },
   "source": [
    "### Learning Outcomes\n",
    "\n",
    "The [Propositional Logic](../0.%20Propositional%20Logic.ipynb) notebooks demonstrated logical reasoning to evaluate and inspect an LNN graph. This experiment will assess your ability to deconstruct a graph and infer truths for individual nodes. Completing the notebook provides the following learning outcomes:\n",
    "\n",
    "- Omni-directional inference per-node\n",
    "- Printing nodes to evaluate truths\n",
    "- Querying information based on inferred truths"
   ]
  },
  {
   "cell_type": "markdown",
   "id": "a4138282-78a7-4ffa-8cb0-78f0cd881ca1",
   "metadata": {
    "tags": []
   },
   "source": [
    "### Instructions\n",
    "\n",
    "1. _Use_ the illustrations given as a guide on how to reason with an LNN graph\n",
    "\n",
    "2. _Fill_ in code that will evaluate the correct truth values expected from performing logical inference\n",
    "\n",
    "3. _Query_ the logical disjunction between nodes B, D and E\n",
    "\n",
    "4. _Copy & paste_ the output of the result into the form under the `results` field "
   ]
  },
  {
   "cell_type": "markdown",
   "id": "f210f9bc-f931-460c-aed7-3c7be43df521",
   "metadata": {},
   "source": [
    "### Propositional Inference\n",
    "\n",
    "Recall that a proposition is any declarative sentence that allows you to associate a truth value with the atomic formulae. An LNN graph can hierarchically compose these propositions using logical connectives and reason over their respective truths. Evaluating a particular node requires an upward/downward inference pass.\n",
    "\n",
    "Suppose that you are given the following LNN graph:\n",
    "\n",
    "\n",
    "where the following beliefs are outputs from sensor information:\n",
    "```\n",
    "root: TRUE\n",
    "A: 0.2\n",
    "C: True\n",
    "E: 0.3 - 0.7\n",
    "```\n",
    "\n",
    "Your task is to perform successive inference passes to obtain the truth value of a query node. \n",
    "> HINT: use the `node.print()` function as a guide to ensure that the LNN is returning the correct truths. \n",
    "\n",
    "The final query is to return the truth of a **disjunction** of the following propositions:\n",
    "\n",
    "\\begin{equation}(B, D, E)\\end{equation}\n",
    "\n",
    "> NB: use the provided function definition to help you extract out the correct truth value bounds\n",
    "\n",
    "<center>\n",
    "    <figure>\n",
    "        <img src=\"../img/experiment/0/graph.png\" width=\"400\" />\n",
    "        <figcaption>Figure 1. Propositional inference</figcaption>\n",
    "    </figure>\n",
    "</center>"
   ]
  },
  {
   "cell_type": "markdown",
   "id": "6e187855-7ac0-4e68-9304-faa44277bb7d",
   "metadata": {},
   "source": [
    "Fill in the codeblock below to construct the graph and reason about all nodes:"
   ]
  },
  {
   "cell_type": "code",
   "execution_count": null,
   "metadata": {},
   "outputs": [],
   "source": []
  },
  {
   "cell_type": "code",
   "execution_count": 8,
   "id": "f6089396-19e1-40ae-8055-a50be06417bd",
   "metadata": {
    "tags": []
   },
   "outputs": [
    {
     "name": "stdout",
     "output_type": "stream",
     "text": [
      "OPEN And: ((A → B) ∧ (((C ∧ D) → E) ∧ (E → (C ∧ D))))          TRUE (1.0, 1.0)\n",
      "params  α: 1.0,  β: 1.0,  w: [1. 1.]\n",
      "OPEN Proposition: A                                 APPROX_FALSE (0.2, 0.2)\n",
      "params  α: 1.0\n",
      "OPEN Proposition: B                                      UNKNOWN (0.0, 1.0)\n",
      "params  α: 1.0\n",
      "OPEN Proposition: C                                         TRUE (1.0, 1.0)\n",
      "params  α: 1.0\n",
      "OPEN Proposition: D                                      UNKNOWN (0.0, 1.0)\n",
      "params  α: 1.0\n",
      "OPEN Proposition: E                                APPROX_UNKNOWN (0.3, 0.7)\n",
      "params  α: 1.0\n"
     ]
    },
    {
     "ename": "KeyError",
     "evalue": "(<_Fact.APPROX_UNKNOWN: 'APPROX_UNKNOWN'>, True, '→')",
     "output_type": "error",
     "traceback": [
      "\u001b[0;31m---------------------------------------------------------------------------\u001b[0m",
      "\u001b[0;31mKeyError\u001b[0m                                  Traceback (most recent call last)",
      "Cell \u001b[0;32mIn[8], line 29\u001b[0m\n\u001b[1;32m     26\u001b[0m printAll()\n\u001b[1;32m     28\u001b[0m \u001b[38;5;66;03m# Reasoning\u001b[39;00m\n\u001b[0;32m---> 29\u001b[0m \u001b[43mmodel\u001b[49m\u001b[38;5;241;43m.\u001b[39;49m\u001b[43minfer\u001b[49m\u001b[43m(\u001b[49m\u001b[43m)\u001b[49m\n\u001b[1;32m     32\u001b[0m printAll()\n",
      "File \u001b[0;32m~/MEGAsync/Summer2024ResearchLNN/LNN_Research/LNN-ATP/lnn/model.py:472\u001b[0m, in \u001b[0;36mModel.infer\u001b[0;34m(self, direction, source, max_steps, **kwds)\u001b[0m\n\u001b[1;32m    448\u001b[0m \u001b[38;5;28;01mdef\u001b[39;00m \u001b[38;5;21minfer\u001b[39m(\n\u001b[1;32m    449\u001b[0m     \u001b[38;5;28mself\u001b[39m,\n\u001b[1;32m    450\u001b[0m     direction: Direction \u001b[38;5;241m=\u001b[39m \u001b[38;5;28;01mNone\u001b[39;00m,\n\u001b[0;32m   (...)\u001b[0m\n\u001b[1;32m    453\u001b[0m     \u001b[38;5;241m*\u001b[39m\u001b[38;5;241m*\u001b[39mkwds,\n\u001b[1;32m    454\u001b[0m ) \u001b[38;5;241m-\u001b[39m\u001b[38;5;241m>\u001b[39m Tuple[Tuple[\u001b[38;5;28mint\u001b[39m, \u001b[38;5;28mint\u001b[39m], torch\u001b[38;5;241m.\u001b[39mTensor]:\n\u001b[1;32m    455\u001b[0m \u001b[38;5;250m    \u001b[39m\u001b[38;5;124mr\u001b[39m\u001b[38;5;124;03m\"\"\"Reasons over all possible inferences until convergence\u001b[39;00m\n\u001b[1;32m    456\u001b[0m \n\u001b[1;32m    457\u001b[0m \u001b[38;5;124;03m    Parameters\u001b[39;00m\n\u001b[0;32m   (...)\u001b[0m\n\u001b[1;32m    469\u001b[0m \n\u001b[1;32m    470\u001b[0m \u001b[38;5;124;03m    \"\"\"\u001b[39;00m\n\u001b[0;32m--> 472\u001b[0m     \u001b[38;5;28;01mreturn\u001b[39;00m \u001b[38;5;28;43mself\u001b[39;49m\u001b[38;5;241;43m.\u001b[39;49m\u001b[43m_infer\u001b[49m\u001b[43m(\u001b[49m\n\u001b[1;32m    473\u001b[0m \u001b[43m        \u001b[49m\u001b[43mdirection\u001b[49m\u001b[38;5;241;43m=\u001b[39;49m\u001b[43mdirection\u001b[49m\u001b[43m,\u001b[49m\n\u001b[1;32m    474\u001b[0m \u001b[43m        \u001b[49m\u001b[43msource\u001b[49m\u001b[38;5;241;43m=\u001b[39;49m\u001b[43msource\u001b[49m\u001b[43m,\u001b[49m\n\u001b[1;32m    475\u001b[0m \u001b[43m        \u001b[49m\u001b[43mmax_steps\u001b[49m\u001b[38;5;241;43m=\u001b[39;49m\u001b[43mmax_steps\u001b[49m\u001b[43m,\u001b[49m\n\u001b[1;32m    476\u001b[0m \u001b[43m        \u001b[49m\u001b[38;5;241;43m*\u001b[39;49m\u001b[38;5;241;43m*\u001b[39;49m\u001b[43mkwds\u001b[49m\u001b[43m,\u001b[49m\n\u001b[1;32m    477\u001b[0m \u001b[43m    \u001b[49m\u001b[43m)\u001b[49m\n",
      "File \u001b[0;32m~/MEGAsync/Summer2024ResearchLNN/LNN_Research/LNN-ATP/lnn/model.py:505\u001b[0m, in \u001b[0;36mModel._infer\u001b[0;34m(self, direction, source, max_steps, **kwds)\u001b[0m\n\u001b[1;32m    503\u001b[0m bounds_diff \u001b[38;5;241m=\u001b[39m \u001b[38;5;241m0.0\u001b[39m\n\u001b[1;32m    504\u001b[0m \u001b[38;5;28;01mfor\u001b[39;00m d \u001b[38;5;129;01min\u001b[39;00m direction:\n\u001b[0;32m--> 505\u001b[0m     bounds_diff \u001b[38;5;241m+\u001b[39m\u001b[38;5;241m=\u001b[39m \u001b[38;5;28;43mself\u001b[39;49m\u001b[38;5;241;43m.\u001b[39;49m\u001b[43m_traverse_execute\u001b[49m\u001b[43m(\u001b[49m\n\u001b[1;32m    506\u001b[0m \u001b[43m        \u001b[49m\u001b[43md\u001b[49m\u001b[38;5;241;43m.\u001b[39;49m\u001b[43mvalue\u001b[49m\u001b[38;5;241;43m.\u001b[39;49m\u001b[43mlower\u001b[49m\u001b[43m(\u001b[49m\u001b[43m)\u001b[49m\u001b[43m,\u001b[49m\u001b[43m \u001b[49m\u001b[43md\u001b[49m\u001b[43m,\u001b[49m\u001b[43m \u001b[49m\u001b[43msource\u001b[49m\u001b[43m,\u001b[49m\u001b[43m \u001b[49m\u001b[38;5;241;43m*\u001b[39;49m\u001b[38;5;241;43m*\u001b[39;49m\u001b[43mkwds\u001b[49m\n\u001b[1;32m    507\u001b[0m \u001b[43m    \u001b[49m\u001b[43m)\u001b[49m\n\u001b[1;32m    508\u001b[0m converged_bounds \u001b[38;5;241m=\u001b[39m (\n\u001b[1;32m    509\u001b[0m     \u001b[38;5;28;01mTrue\u001b[39;00m\n\u001b[1;32m    510\u001b[0m     \u001b[38;5;28;01mif\u001b[39;00m direction \u001b[38;5;129;01min\u001b[39;00m ([[Direction\u001b[38;5;241m.\u001b[39mUPWARD], [Direction\u001b[38;5;241m.\u001b[39mDOWNWARD]])\n\u001b[1;32m    511\u001b[0m     \u001b[38;5;28;01melse\u001b[39;00m bounds_diff \u001b[38;5;241m<\u001b[39m\u001b[38;5;241m=\u001b[39m \u001b[38;5;241m1e-7\u001b[39m\n\u001b[1;32m    512\u001b[0m )\n\u001b[1;32m    513\u001b[0m \u001b[38;5;28;01mif\u001b[39;00m converged_bounds:\n",
      "File \u001b[0;32m~/MEGAsync/Summer2024ResearchLNN/LNN_Research/LNN-ATP/lnn/model.py:442\u001b[0m, in \u001b[0;36mModel._traverse_execute\u001b[0;34m(self, func, direction, source, **kwds)\u001b[0m\n\u001b[1;32m    440\u001b[0m coalesce \u001b[38;5;241m=\u001b[39m torch\u001b[38;5;241m.\u001b[39mtensor(\u001b[38;5;241m0.0\u001b[39m)\n\u001b[1;32m    441\u001b[0m \u001b[38;5;28;01mfor\u001b[39;00m node \u001b[38;5;129;01min\u001b[39;00m nodes:\n\u001b[0;32m--> 442\u001b[0m     val \u001b[38;5;241m=\u001b[39m \u001b[38;5;28;43mgetattr\u001b[39;49m\u001b[43m(\u001b[49m\u001b[43mnode\u001b[49m\u001b[43m,\u001b[49m\u001b[43m \u001b[49m\u001b[43mfunc\u001b[49m\u001b[43m)\u001b[49m\u001b[43m(\u001b[49m\u001b[38;5;241;43m*\u001b[39;49m\u001b[38;5;241;43m*\u001b[39;49m\u001b[43mkwds\u001b[49m\u001b[43m)\u001b[49m \u001b[38;5;28;01mif\u001b[39;00m \u001b[38;5;28mhasattr\u001b[39m(node, func) \u001b[38;5;28;01melse\u001b[39;00m \u001b[38;5;28;01mNone\u001b[39;00m\n\u001b[1;32m    443\u001b[0m     coalesce \u001b[38;5;241m=\u001b[39m coalesce \u001b[38;5;241m+\u001b[39m val \u001b[38;5;28;01mif\u001b[39;00m val \u001b[38;5;129;01mis\u001b[39;00m \u001b[38;5;129;01mnot\u001b[39;00m \u001b[38;5;28;01mNone\u001b[39;00m \u001b[38;5;28;01melse\u001b[39;00m coalesce\n\u001b[1;32m    444\u001b[0m \u001b[38;5;28;01mif\u001b[39;00m coalesce \u001b[38;5;129;01mand\u001b[39;00m func \u001b[38;5;129;01min\u001b[39;00m [d\u001b[38;5;241m.\u001b[39mvalue\u001b[38;5;241m.\u001b[39mlower() \u001b[38;5;28;01mfor\u001b[39;00m d \u001b[38;5;129;01min\u001b[39;00m Direction]:\n",
      "File \u001b[0;32m~/MEGAsync/Summer2024ResearchLNN/LNN_Research/LNN-ATP/lnn/symbolic/logic/binary_neuron.py:165\u001b[0m, in \u001b[0;36mIff.downward\u001b[0;34m(self, index, groundings, **kwds)\u001b[0m\n\u001b[1;32m    149\u001b[0m \u001b[38;5;250m\u001b[39m\u001b[38;5;124mr\u001b[39m\u001b[38;5;124;03m\"\"\"Downward inference from the operator to the operands.\u001b[39;00m\n\u001b[1;32m    150\u001b[0m \n\u001b[1;32m    151\u001b[0m \u001b[38;5;124;03mParameters\u001b[39;00m\n\u001b[0;32m   (...)\u001b[0m\n\u001b[1;32m    162\u001b[0m \n\u001b[1;32m    163\u001b[0m \u001b[38;5;124;03m\"\"\"\u001b[39;00m\n\u001b[1;32m    164\u001b[0m result \u001b[38;5;241m=\u001b[39m \u001b[38;5;28msuper\u001b[39m()\u001b[38;5;241m.\u001b[39mdownward(index, groundings, \u001b[38;5;241m*\u001b[39m\u001b[38;5;241m*\u001b[39mkwds)\n\u001b[0;32m--> 165\u001b[0m \u001b[38;5;28;43mself\u001b[39;49m\u001b[38;5;241;43m.\u001b[39;49m\u001b[43mImp1\u001b[49m\u001b[38;5;241;43m.\u001b[39;49m\u001b[43mdownward\u001b[49m\u001b[43m(\u001b[49m\u001b[43mindex\u001b[49m\u001b[43m,\u001b[49m\u001b[43m \u001b[49m\u001b[43mgroundings\u001b[49m\u001b[43m,\u001b[49m\u001b[43m \u001b[49m\u001b[38;5;241;43m*\u001b[39;49m\u001b[38;5;241;43m*\u001b[39;49m\u001b[43mkwds\u001b[49m\u001b[43m)\u001b[49m\n\u001b[1;32m    166\u001b[0m \u001b[38;5;28mself\u001b[39m\u001b[38;5;241m.\u001b[39mImp2\u001b[38;5;241m.\u001b[39mdownward(index, groundings, \u001b[38;5;241m*\u001b[39m\u001b[38;5;241m*\u001b[39mkwds)\n\u001b[1;32m    167\u001b[0m \u001b[38;5;28;01mreturn\u001b[39;00m result\n",
      "File \u001b[0;32m~/MEGAsync/Summer2024ResearchLNN/LNN_Research/LNN-ATP/lnn/symbolic/logic/connective_neuron.py:198\u001b[0m, in \u001b[0;36m_ConnectiveNeuron.downward\u001b[0;34m(self, index, groundings, **kwds)\u001b[0m\n\u001b[1;32m    196\u001b[0m rule \u001b[38;5;241m=\u001b[39m \u001b[38;5;124m\"\u001b[39m\u001b[38;5;124m\"\u001b[39m\n\u001b[1;32m    197\u001b[0m \u001b[38;5;28;01mif\u001b[39;00m \u001b[38;5;129;01mnot\u001b[39;00m op\u001b[38;5;241m.\u001b[39mis_contradiction():\n\u001b[0;32m--> 198\u001b[0m     rule \u001b[38;5;241m=\u001b[39m \u001b[43mLawsOfInference\u001b[49m\u001b[43m[\u001b[49m\u001b[43m(\u001b[49m\u001b[43mforTruth\u001b[49m\u001b[43m,\u001b[49m\u001b[43m \u001b[49m\u001b[43mfromTruth\u001b[49m\u001b[43m,\u001b[49m\u001b[43m \u001b[49m\u001b[43moperatorType\u001b[49m\u001b[43m)\u001b[49m\u001b[43m]\u001b[49m\n\u001b[1;32m    199\u001b[0m     addSolStep_Derivation((op\u001b[38;5;241m.\u001b[39mname, forTruth), rule, (\u001b[38;5;28mself\u001b[39m\u001b[38;5;241m.\u001b[39mname, fromTruth))\n\u001b[1;32m    200\u001b[0m \u001b[38;5;28;01melse\u001b[39;00m:\n",
      "\u001b[0;31mKeyError\u001b[0m: (<_Fact.APPROX_UNKNOWN: 'APPROX_UNKNOWN'>, True, '→')"
     ]
    }
   ],
   "source": [
    "from lnn import Propositions, Implies, And, Iff, Fact, Model, Or\n",
    "\n",
    "def printAll():\n",
    "    ROOT.print(params=True)\n",
    "    A.print(params=True)\n",
    "    B.print(params=True)\n",
    "    C.print(params=True)\n",
    "    D.print(params=True)\n",
    "    E.print(params=True)\n",
    "\n",
    "# Knowledge\n",
    "A, B, C, D, E = Propositions(\"A\", \"B\", \"C\", \"D\", \"E\")\n",
    "A_IMPLIES_B = Implies(A, B)\n",
    "C_AND_D = And(C, D)\n",
    "C_AND_D__IFF__E = Iff(C_AND_D, E)\n",
    "ROOT = And(A_IMPLIES_B, C_AND_D__IFF__E)\n",
    "model = Model()\n",
    "model.add_knowledge(ROOT)\n",
    "\n",
    "# Data\n",
    "ROOT.add_data(Fact.TRUE)\n",
    "A.add_data(.2)\n",
    "C.add_data(1.0)\n",
    "E.add_data((.3, .7))\n",
    "\n",
    "printAll()\n",
    "\n",
    "# Reasoning\n",
    "model.infer()\n",
    "\n",
    "printAll()"
   ]
  },
  {
   "cell_type": "markdown",
   "id": "d866094a-7435-439d-a42a-80c78f5e9173",
   "metadata": {},
   "source": [
    "### Query\n",
    "Finally, find the state of the **disjunction** between nodes `B`, `D` and `E` using the `query_state` method.\n",
    "\n",
    "<center>\n",
    "    <figure>\n",
    "        <img src=\"../img/experiment/0/query.png\" width=\"200\" />\n",
    "        <figcaption>Figure 5. Perform inference to find the disjunction between nodes B, D and E</figcaption>\n",
    "    </figure>\n",
    "</center>"
   ]
  },
  {
   "cell_type": "code",
   "execution_count": 9,
   "id": "a513e2f8-9e4f-4a99-adaf-a11384a4a356",
   "metadata": {},
   "outputs": [],
   "source": [
    "def query_state(node):\n",
    "    round_off = lambda my_list: [float(f\"{_:.1f}\") for _ in my_list]\n",
    "    return f\"{node.state().name}: {tuple(round_off(node.get_data().tolist()))}\""
   ]
  },
  {
   "cell_type": "markdown",
   "id": "9d760aca-274b-403c-9ed5-031f34c1bd4d",
   "metadata": {},
   "source": [
    "Fill in the codeblock below to extract the solution to the query:"
   ]
  },
  {
   "cell_type": "code",
   "execution_count": 10,
   "id": "f3d5c827-cd96-45f3-9c19-4052969f667f",
   "metadata": {},
   "outputs": [
    {
     "name": "stdout",
     "output_type": "stream",
     "text": [
      "OPEN Or: (B ∨ D ∨ E)                                     UNKNOWN (0.0, 1.0)\n",
      "\n",
      "OPEN Or: (B ∨ D ∨ E)                                 APPROX_TRUE (0.8, 1.0)\n",
      "\n"
     ]
    },
    {
     "data": {
      "text/plain": [
       "'APPROX_TRUE: (0.8, 1.0)'"
      ]
     },
     "execution_count": 10,
     "metadata": {},
     "output_type": "execute_result"
    }
   ],
   "source": [
    "query = Or(B, D, E)\n",
    "query.print()\n",
    "query.upward()\n",
    "query.print()\n",
    "\n",
    "query_state(query)"
   ]
  },
  {
   "cell_type": "markdown",
   "id": "38d1b4c2-6d80-4310-8e04-350a5a660044",
   "metadata": {},
   "source": [
    "<h2 style=\"color:#0f62fe\"><strong>NSAI Essentials Submission</strong></h2>\n",
    "\n",
    "The output from the cell above, **including the quotation marks**, should be submitted to the evaluation form. See the [NSAI Essentials description](https://ibm.ent.box.com/notes/928968934657?s=42l32h0uno2ndq5o9omb7hl17dddpjuk) for more details.\n",
    "\n",
    "🎉 Congratulations on completing the first set of tutorials on propositional logic 🎉 "
   ]
  }
 ],
 "metadata": {
  "kernelspec": {
   "display_name": "Python 3 (ipykernel)",
   "language": "python",
   "name": "python3"
  },
  "language_info": {
   "codemirror_mode": {
    "name": "ipython",
    "version": 3
   },
   "file_extension": ".py",
   "mimetype": "text/x-python",
   "name": "python",
   "nbconvert_exporter": "python",
   "pygments_lexer": "ipython3",
   "version": "3.9.19"
  }
 },
 "nbformat": 4,
 "nbformat_minor": 5
}
